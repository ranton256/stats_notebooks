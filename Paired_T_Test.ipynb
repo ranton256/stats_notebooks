{
  "nbformat": 4,
  "nbformat_minor": 0,
  "metadata": {
    "colab": {
      "provenance": [],
      "authorship_tag": "ABX9TyPkQ+oL1TEHtUE8n24Y0xI0",
      "include_colab_link": true
    },
    "kernelspec": {
      "name": "python3",
      "display_name": "Python 3"
    },
    "language_info": {
      "name": "python"
    }
  },
  "cells": [
    {
      "cell_type": "markdown",
      "metadata": {
        "id": "view-in-github",
        "colab_type": "text"
      },
      "source": [
        "<a href=\"https://colab.research.google.com/github/ranton256/stats_notebooks/blob/main/Paired_T_Test.ipynb\" target=\"_parent\"><img src=\"https://colab.research.google.com/assets/colab-badge.svg\" alt=\"Open In Colab\"/></a>"
      ]
    },
    {
      "cell_type": "markdown",
      "source": [
        "# Paired T-Test Hypothesis\n",
        "\n",
        "Assesses the mean difference between the pairs.\n",
        "\n",
        "- Null hypothesis: The mean of the paired differences equals zero in the population.\n",
        "- Alternative hypothesis: The mean of the paired differences does not equal zero in the population.\n",
        "  - The two-tailed alternative hypothesis (𝐻1) assumes that 𝜇𝑑 is not equal to zero.\n",
        "  - The upper-tailed alternative hypothesis (𝐻1) assumes that 𝜇𝑑 is greater than zero.\n",
        "  - The lower-tailed alternative hypothesis (𝐻1) assumes that 𝜇𝑑 is less than zero.\n",
        "\n",
        "## Assumptions\n",
        "\n",
        "- You have a random sample with independent subjects\n",
        "- Paired samples: assesses the mean difference between the pairs. These are also known as dependent samples.\n",
        "- The dependent variable must be continuous.\n",
        "- Data should be normally distributed or sample size N > 20\n",
        "  - check for outliers because they can throw off the results.\n",
        "\n",
        "\n",
        "### Alternate wording of assumptions\n",
        "\n",
        "\n",
        "- The dependent variable must be continuous (interval/ratio).\n",
        "- The observations are independent of one another.\n",
        "- The dependent variable should be approximately normally distributed.\n",
        "- The dependent variable should not contain any outliers.\n",
        "\n",
        "\n",
        "## References\n",
        "\n",
        "- <https://statisticsbyjim.com/hypothesis-testing/paired-t-test/>\n",
        "- <https://www.statisticssolutions.com/free-resources/directory-of-statistical-analyses/paired-sample-t-test/>\n",
        "- <https://www.jmp.com/en_us/statistics-knowledge-portal/t-test/paired-t-test.html>\n",
        "\n"
      ],
      "metadata": {
        "id": "9DCk-STbxGBL"
      }
    },
    {
      "cell_type": "markdown",
      "source": [
        "## Procedure\n",
        "\n",
        "The procedure for a paired sample t-test can be summed up in four steps. The symbols to be used are defined below:\n",
        "\n",
        "```txt\n",
        "𝐷 = Differences between two paired samples\n",
        "𝑑𝑖 = The 𝑖𝑡ℎ observation in 𝐷\n",
        "𝑛 = The sample size\n",
        "𝑑⎯⎯⎯ = The sample mean of the differences\n",
        "𝜎̂  = The sample standard deviation of the differences\n",
        "𝑇 =The critical value of a t-distribution with (𝑛 − 1\n",
        ") degrees of freedom\n",
        "𝑡 = The t-statistic (t-test statistic) for a paired sample t-test\n",
        "𝑝 = The 𝑝-value (probability value) for the t-statistic.\n",
        "\n",
        "```\n",
        "\n",
        "1. Calculate the sample mean\n",
        "2. Calculate the standard deviation (of the sample diff)\n",
        "3. Calculate the test statistic\n",
        "4. Calculate the probability of observing the test statistic under the null hypothesis. obtained by comparing t to a t-distribution with (𝑛 − 1) degrees of freedom. (by looking up the value in a table, or with statistical software).\n",
        "\n",
        "\n"
      ],
      "metadata": {
        "id": "mMJ2EcIZxF3I"
      }
    },
    {
      "cell_type": "markdown",
      "source": [
        "# SciPy\n",
        "\n",
        "https://docs.scipy.org/doc/scipy/reference/generated/scipy.stats.ttest_rel.html#ttest-rel\n"
      ],
      "metadata": {
        "id": "HKQwEQWiFRj8"
      }
    },
    {
      "cell_type": "code",
      "execution_count": 1,
      "metadata": {
        "id": "5eTNBipywyDi"
      },
      "outputs": [],
      "source": [
        "import numpy as np\n",
        "\n",
        "from scipy import stats\n",
        "\n",
        "rng = np.random.default_rng()"
      ]
    },
    {
      "cell_type": "code",
      "source": [
        "rvs1 = stats.norm.rvs(loc=5, scale=10, size=500, random_state=rng)\n",
        "\n",
        "rvs2 = (stats.norm.rvs(loc=5, scale=10, size=500, random_state=rng)\n",
        "\n",
        "        + stats.norm.rvs(scale=0.2, size=500, random_state=rng))\n",
        "\n",
        "stats.ttest_rel(rvs1, rvs2)\n"
      ],
      "metadata": {
        "colab": {
          "base_uri": "https://localhost:8080/"
        },
        "id": "cj2BD16yFWY9",
        "outputId": "ac6bd3eb-d3ae-4438-e391-393ed64ceaea"
      },
      "execution_count": 2,
      "outputs": [
        {
          "output_type": "execute_result",
          "data": {
            "text/plain": [
              "TtestResult(statistic=-0.2519569948347526, pvalue=0.8011780425060282, df=499)"
            ]
          },
          "metadata": {},
          "execution_count": 2
        }
      ]
    },
    {
      "cell_type": "code",
      "source": [
        "\n",
        "rvs3 = (stats.norm.rvs(loc=8, scale=10, size=500, random_state=rng)\n",
        "\n",
        "        + stats.norm.rvs(scale=0.2, size=500, random_state=rng))\n",
        "\n",
        "stats.ttest_rel(rvs1, rvs3)\n"
      ],
      "metadata": {
        "colab": {
          "base_uri": "https://localhost:8080/"
        },
        "id": "FSobe_0TFbAD",
        "outputId": "7c8d2acc-3adb-476a-82bc-d517013d1646"
      },
      "execution_count": 3,
      "outputs": [
        {
          "output_type": "execute_result",
          "data": {
            "text/plain": [
              "TtestResult(statistic=-4.400417026273636, pvalue=1.3220343575969364e-05, df=499)"
            ]
          },
          "metadata": {},
          "execution_count": 3
        }
      ]
    },
    {
      "cell_type": "markdown",
      "source": [
        "https://pythonfordatascienceorg.wordpress.com/paired-samples-t-test-python/#data-used"
      ],
      "metadata": {
        "id": "3ER-vL8SFltK"
      }
    },
    {
      "cell_type": "code",
      "source": [
        "bp_data_url = \"https://raw.githubusercontent.com/Opensourcefordatascience/Data-sets/refs/heads/master/blood_pressure.csv\"\n",
        "from urllib.request import urlretrieve\n",
        "urlretrieve(bp_data_url, \"blood_pressure.csv\")"
      ],
      "metadata": {
        "colab": {
          "base_uri": "https://localhost:8080/"
        },
        "id": "RDqvYIKPFj5J",
        "outputId": "18f181b8-95cf-4149-e7f2-06a7494e6680"
      },
      "execution_count": 5,
      "outputs": [
        {
          "output_type": "execute_result",
          "data": {
            "text/plain": [
              "('blood_pressure.csv', <http.client.HTTPMessage at 0x7c8093c392d0>)"
            ]
          },
          "metadata": {},
          "execution_count": 5
        }
      ]
    },
    {
      "cell_type": "code",
      "source": [
        "import pandas as pd"
      ],
      "metadata": {
        "id": "LLHu163YGEPl"
      },
      "execution_count": 7,
      "outputs": []
    },
    {
      "cell_type": "code",
      "source": [
        "df = pd.read_csv(\"blood_pressure.csv\")\n",
        "\n",
        "df[['bp_before','bp_after']].describe()"
      ],
      "metadata": {
        "colab": {
          "base_uri": "https://localhost:8080/",
          "height": 300
        },
        "id": "YxUBWru8GADp",
        "outputId": "52fb63da-61f0-4846-9731-5a97258ef61d"
      },
      "execution_count": 8,
      "outputs": [
        {
          "output_type": "execute_result",
          "data": {
            "text/plain": [
              "        bp_before    bp_after\n",
              "count  120.000000  120.000000\n",
              "mean   156.450000  151.358333\n",
              "std     11.389845   14.177622\n",
              "min    138.000000  125.000000\n",
              "25%    147.000000  140.750000\n",
              "50%    154.500000  149.500000\n",
              "75%    164.000000  161.000000\n",
              "max    185.000000  185.000000"
            ],
            "text/html": [
              "\n",
              "  <div id=\"df-a94d1786-2538-4877-b2d1-e8557334464a\" class=\"colab-df-container\">\n",
              "    <div>\n",
              "<style scoped>\n",
              "    .dataframe tbody tr th:only-of-type {\n",
              "        vertical-align: middle;\n",
              "    }\n",
              "\n",
              "    .dataframe tbody tr th {\n",
              "        vertical-align: top;\n",
              "    }\n",
              "\n",
              "    .dataframe thead th {\n",
              "        text-align: right;\n",
              "    }\n",
              "</style>\n",
              "<table border=\"1\" class=\"dataframe\">\n",
              "  <thead>\n",
              "    <tr style=\"text-align: right;\">\n",
              "      <th></th>\n",
              "      <th>bp_before</th>\n",
              "      <th>bp_after</th>\n",
              "    </tr>\n",
              "  </thead>\n",
              "  <tbody>\n",
              "    <tr>\n",
              "      <th>count</th>\n",
              "      <td>120.000000</td>\n",
              "      <td>120.000000</td>\n",
              "    </tr>\n",
              "    <tr>\n",
              "      <th>mean</th>\n",
              "      <td>156.450000</td>\n",
              "      <td>151.358333</td>\n",
              "    </tr>\n",
              "    <tr>\n",
              "      <th>std</th>\n",
              "      <td>11.389845</td>\n",
              "      <td>14.177622</td>\n",
              "    </tr>\n",
              "    <tr>\n",
              "      <th>min</th>\n",
              "      <td>138.000000</td>\n",
              "      <td>125.000000</td>\n",
              "    </tr>\n",
              "    <tr>\n",
              "      <th>25%</th>\n",
              "      <td>147.000000</td>\n",
              "      <td>140.750000</td>\n",
              "    </tr>\n",
              "    <tr>\n",
              "      <th>50%</th>\n",
              "      <td>154.500000</td>\n",
              "      <td>149.500000</td>\n",
              "    </tr>\n",
              "    <tr>\n",
              "      <th>75%</th>\n",
              "      <td>164.000000</td>\n",
              "      <td>161.000000</td>\n",
              "    </tr>\n",
              "    <tr>\n",
              "      <th>max</th>\n",
              "      <td>185.000000</td>\n",
              "      <td>185.000000</td>\n",
              "    </tr>\n",
              "  </tbody>\n",
              "</table>\n",
              "</div>\n",
              "    <div class=\"colab-df-buttons\">\n",
              "\n",
              "  <div class=\"colab-df-container\">\n",
              "    <button class=\"colab-df-convert\" onclick=\"convertToInteractive('df-a94d1786-2538-4877-b2d1-e8557334464a')\"\n",
              "            title=\"Convert this dataframe to an interactive table.\"\n",
              "            style=\"display:none;\">\n",
              "\n",
              "  <svg xmlns=\"http://www.w3.org/2000/svg\" height=\"24px\" viewBox=\"0 -960 960 960\">\n",
              "    <path d=\"M120-120v-720h720v720H120Zm60-500h600v-160H180v160Zm220 220h160v-160H400v160Zm0 220h160v-160H400v160ZM180-400h160v-160H180v160Zm440 0h160v-160H620v160ZM180-180h160v-160H180v160Zm440 0h160v-160H620v160Z\"/>\n",
              "  </svg>\n",
              "    </button>\n",
              "\n",
              "  <style>\n",
              "    .colab-df-container {\n",
              "      display:flex;\n",
              "      gap: 12px;\n",
              "    }\n",
              "\n",
              "    .colab-df-convert {\n",
              "      background-color: #E8F0FE;\n",
              "      border: none;\n",
              "      border-radius: 50%;\n",
              "      cursor: pointer;\n",
              "      display: none;\n",
              "      fill: #1967D2;\n",
              "      height: 32px;\n",
              "      padding: 0 0 0 0;\n",
              "      width: 32px;\n",
              "    }\n",
              "\n",
              "    .colab-df-convert:hover {\n",
              "      background-color: #E2EBFA;\n",
              "      box-shadow: 0px 1px 2px rgba(60, 64, 67, 0.3), 0px 1px 3px 1px rgba(60, 64, 67, 0.15);\n",
              "      fill: #174EA6;\n",
              "    }\n",
              "\n",
              "    .colab-df-buttons div {\n",
              "      margin-bottom: 4px;\n",
              "    }\n",
              "\n",
              "    [theme=dark] .colab-df-convert {\n",
              "      background-color: #3B4455;\n",
              "      fill: #D2E3FC;\n",
              "    }\n",
              "\n",
              "    [theme=dark] .colab-df-convert:hover {\n",
              "      background-color: #434B5C;\n",
              "      box-shadow: 0px 1px 3px 1px rgba(0, 0, 0, 0.15);\n",
              "      filter: drop-shadow(0px 1px 2px rgba(0, 0, 0, 0.3));\n",
              "      fill: #FFFFFF;\n",
              "    }\n",
              "  </style>\n",
              "\n",
              "    <script>\n",
              "      const buttonEl =\n",
              "        document.querySelector('#df-a94d1786-2538-4877-b2d1-e8557334464a button.colab-df-convert');\n",
              "      buttonEl.style.display =\n",
              "        google.colab.kernel.accessAllowed ? 'block' : 'none';\n",
              "\n",
              "      async function convertToInteractive(key) {\n",
              "        const element = document.querySelector('#df-a94d1786-2538-4877-b2d1-e8557334464a');\n",
              "        const dataTable =\n",
              "          await google.colab.kernel.invokeFunction('convertToInteractive',\n",
              "                                                    [key], {});\n",
              "        if (!dataTable) return;\n",
              "\n",
              "        const docLinkHtml = 'Like what you see? Visit the ' +\n",
              "          '<a target=\"_blank\" href=https://colab.research.google.com/notebooks/data_table.ipynb>data table notebook</a>'\n",
              "          + ' to learn more about interactive tables.';\n",
              "        element.innerHTML = '';\n",
              "        dataTable['output_type'] = 'display_data';\n",
              "        await google.colab.output.renderOutput(dataTable, element);\n",
              "        const docLink = document.createElement('div');\n",
              "        docLink.innerHTML = docLinkHtml;\n",
              "        element.appendChild(docLink);\n",
              "      }\n",
              "    </script>\n",
              "  </div>\n",
              "\n",
              "\n",
              "<div id=\"df-354b0593-52f7-4fc2-8d1c-85949ff1ec7e\">\n",
              "  <button class=\"colab-df-quickchart\" onclick=\"quickchart('df-354b0593-52f7-4fc2-8d1c-85949ff1ec7e')\"\n",
              "            title=\"Suggest charts\"\n",
              "            style=\"display:none;\">\n",
              "\n",
              "<svg xmlns=\"http://www.w3.org/2000/svg\" height=\"24px\"viewBox=\"0 0 24 24\"\n",
              "     width=\"24px\">\n",
              "    <g>\n",
              "        <path d=\"M19 3H5c-1.1 0-2 .9-2 2v14c0 1.1.9 2 2 2h14c1.1 0 2-.9 2-2V5c0-1.1-.9-2-2-2zM9 17H7v-7h2v7zm4 0h-2V7h2v10zm4 0h-2v-4h2v4z\"/>\n",
              "    </g>\n",
              "</svg>\n",
              "  </button>\n",
              "\n",
              "<style>\n",
              "  .colab-df-quickchart {\n",
              "      --bg-color: #E8F0FE;\n",
              "      --fill-color: #1967D2;\n",
              "      --hover-bg-color: #E2EBFA;\n",
              "      --hover-fill-color: #174EA6;\n",
              "      --disabled-fill-color: #AAA;\n",
              "      --disabled-bg-color: #DDD;\n",
              "  }\n",
              "\n",
              "  [theme=dark] .colab-df-quickchart {\n",
              "      --bg-color: #3B4455;\n",
              "      --fill-color: #D2E3FC;\n",
              "      --hover-bg-color: #434B5C;\n",
              "      --hover-fill-color: #FFFFFF;\n",
              "      --disabled-bg-color: #3B4455;\n",
              "      --disabled-fill-color: #666;\n",
              "  }\n",
              "\n",
              "  .colab-df-quickchart {\n",
              "    background-color: var(--bg-color);\n",
              "    border: none;\n",
              "    border-radius: 50%;\n",
              "    cursor: pointer;\n",
              "    display: none;\n",
              "    fill: var(--fill-color);\n",
              "    height: 32px;\n",
              "    padding: 0;\n",
              "    width: 32px;\n",
              "  }\n",
              "\n",
              "  .colab-df-quickchart:hover {\n",
              "    background-color: var(--hover-bg-color);\n",
              "    box-shadow: 0 1px 2px rgba(60, 64, 67, 0.3), 0 1px 3px 1px rgba(60, 64, 67, 0.15);\n",
              "    fill: var(--button-hover-fill-color);\n",
              "  }\n",
              "\n",
              "  .colab-df-quickchart-complete:disabled,\n",
              "  .colab-df-quickchart-complete:disabled:hover {\n",
              "    background-color: var(--disabled-bg-color);\n",
              "    fill: var(--disabled-fill-color);\n",
              "    box-shadow: none;\n",
              "  }\n",
              "\n",
              "  .colab-df-spinner {\n",
              "    border: 2px solid var(--fill-color);\n",
              "    border-color: transparent;\n",
              "    border-bottom-color: var(--fill-color);\n",
              "    animation:\n",
              "      spin 1s steps(1) infinite;\n",
              "  }\n",
              "\n",
              "  @keyframes spin {\n",
              "    0% {\n",
              "      border-color: transparent;\n",
              "      border-bottom-color: var(--fill-color);\n",
              "      border-left-color: var(--fill-color);\n",
              "    }\n",
              "    20% {\n",
              "      border-color: transparent;\n",
              "      border-left-color: var(--fill-color);\n",
              "      border-top-color: var(--fill-color);\n",
              "    }\n",
              "    30% {\n",
              "      border-color: transparent;\n",
              "      border-left-color: var(--fill-color);\n",
              "      border-top-color: var(--fill-color);\n",
              "      border-right-color: var(--fill-color);\n",
              "    }\n",
              "    40% {\n",
              "      border-color: transparent;\n",
              "      border-right-color: var(--fill-color);\n",
              "      border-top-color: var(--fill-color);\n",
              "    }\n",
              "    60% {\n",
              "      border-color: transparent;\n",
              "      border-right-color: var(--fill-color);\n",
              "    }\n",
              "    80% {\n",
              "      border-color: transparent;\n",
              "      border-right-color: var(--fill-color);\n",
              "      border-bottom-color: var(--fill-color);\n",
              "    }\n",
              "    90% {\n",
              "      border-color: transparent;\n",
              "      border-bottom-color: var(--fill-color);\n",
              "    }\n",
              "  }\n",
              "</style>\n",
              "\n",
              "  <script>\n",
              "    async function quickchart(key) {\n",
              "      const quickchartButtonEl =\n",
              "        document.querySelector('#' + key + ' button');\n",
              "      quickchartButtonEl.disabled = true;  // To prevent multiple clicks.\n",
              "      quickchartButtonEl.classList.add('colab-df-spinner');\n",
              "      try {\n",
              "        const charts = await google.colab.kernel.invokeFunction(\n",
              "            'suggestCharts', [key], {});\n",
              "      } catch (error) {\n",
              "        console.error('Error during call to suggestCharts:', error);\n",
              "      }\n",
              "      quickchartButtonEl.classList.remove('colab-df-spinner');\n",
              "      quickchartButtonEl.classList.add('colab-df-quickchart-complete');\n",
              "    }\n",
              "    (() => {\n",
              "      let quickchartButtonEl =\n",
              "        document.querySelector('#df-354b0593-52f7-4fc2-8d1c-85949ff1ec7e button');\n",
              "      quickchartButtonEl.style.display =\n",
              "        google.colab.kernel.accessAllowed ? 'block' : 'none';\n",
              "    })();\n",
              "  </script>\n",
              "</div>\n",
              "\n",
              "    </div>\n",
              "  </div>\n"
            ],
            "application/vnd.google.colaboratory.intrinsic+json": {
              "type": "dataframe",
              "summary": "{\n  \"name\": \"df[['bp_before','bp_after']]\",\n  \"rows\": 8,\n  \"fields\": [\n    {\n      \"column\": \"bp_before\",\n      \"properties\": {\n        \"dtype\": \"number\",\n        \"std\": 53.2341838381238,\n        \"min\": 11.389845101166717,\n        \"max\": 185.0,\n        \"num_unique_values\": 8,\n        \"samples\": [\n          156.45,\n          154.5,\n          120.0\n        ],\n        \"semantic_type\": \"\",\n        \"description\": \"\"\n      }\n    },\n    {\n      \"column\": \"bp_after\",\n      \"properties\": {\n        \"dtype\": \"number\",\n        \"std\": 51.36988827103174,\n        \"min\": 14.177622226198421,\n        \"max\": 185.0,\n        \"num_unique_values\": 8,\n        \"samples\": [\n          151.35833333333332,\n          149.5,\n          120.0\n        ],\n        \"semantic_type\": \"\",\n        \"description\": \"\"\n      }\n    }\n  ]\n}"
            }
          },
          "metadata": {},
          "execution_count": 8
        }
      ]
    },
    {
      "cell_type": "code",
      "source": [
        "df.columns"
      ],
      "metadata": {
        "colab": {
          "base_uri": "https://localhost:8080/"
        },
        "id": "8CeWzf7IGZHT",
        "outputId": "d665bbfb-0f93-4054-f16c-d9c0b223bed8"
      },
      "execution_count": 9,
      "outputs": [
        {
          "output_type": "execute_result",
          "data": {
            "text/plain": [
              "Index(['patient', 'sex', 'agegrp', 'bp_before', 'bp_after'], dtype='object')"
            ]
          },
          "metadata": {},
          "execution_count": 9
        }
      ]
    },
    {
      "cell_type": "code",
      "source": [
        "#df.hist(column = \"bp_before\")\n",
        "#df.hist(column = \"bp_after\")"
      ],
      "metadata": {
        "id": "1m719as5Gwbf"
      },
      "execution_count": 14,
      "outputs": []
    },
    {
      "cell_type": "code",
      "source": [
        "df[['bp_before','bp_after']].plot(kind = \"hist\", subplots=True, title=\"BP Before and After\", figsize=(10,7))"
      ],
      "metadata": {
        "colab": {
          "base_uri": "https://localhost:8080/",
          "height": 706
        },
        "id": "DRHQrfPnG0Mx",
        "outputId": "a5a592da-f7a3-47ee-961c-cb910983982f"
      },
      "execution_count": 18,
      "outputs": [
        {
          "output_type": "execute_result",
          "data": {
            "text/plain": [
              "array([<Axes: ylabel='Frequency'>, <Axes: ylabel='Frequency'>],\n",
              "      dtype=object)"
            ]
          },
          "metadata": {},
          "execution_count": 18
        },
        {
          "output_type": "display_data",
          "data": {
            "text/plain": [
              "<Figure size 1000x700 with 2 Axes>"
            ],
            "image/png": "[encoded data removed]"
          },
          "metadata": {}
        }
      ]
    },
    {
      "cell_type": "code",
      "source": [
        "import seaborn as sns"
      ],
      "metadata": {
        "id": "85iDJ-lrHbJi"
      },
      "execution_count": 16,
      "outputs": []
    },
    {
      "cell_type": "code",
      "source": [
        "# sns.boxplot(data=df, y=\"bp_before\")\n",
        "#sns.boxplot(data=df, y=\"bp_after\")"
      ],
      "metadata": {
        "id": "cwiqRiW6HTFJ"
      },
      "execution_count": 25,
      "outputs": []
    },
    {
      "cell_type": "code",
      "source": [
        "\n",
        "df_melted = pd.melt(df[['bp_before','bp_after']])\n",
        "#df_melted"
      ],
      "metadata": {
        "id": "foavze2ZH9Wn"
      },
      "execution_count": 26,
      "outputs": []
    },
    {
      "cell_type": "code",
      "source": [
        "sns.boxplot(x='variable', y='value', data=df_melted, hue='variable')"
      ],
      "metadata": {
        "colab": {
          "base_uri": "https://localhost:8080/",
          "height": 468
        },
        "id": "Gi5IL6kyIbcK",
        "outputId": "f1db5299-6844-4981-ff6e-adeaf096552e"
      },
      "execution_count": 27,
      "outputs": [
        {
          "output_type": "execute_result",
          "data": {
            "text/plain": [
              "<Axes: xlabel='variable', ylabel='value'>"
            ]
          },
          "metadata": {},
          "execution_count": 27
        },
        {
          "output_type": "display_data",
          "data": {
            "text/plain": [
              "<Figure size 640x480 with 1 Axes>"
            ],
            "image/png": "[encoded data removed]"
          },
          "metadata": {}
        }
      ]
    },
    {
      "cell_type": "code",
      "source": [
        "stats.ttest_rel(df['bp_before'], df['bp_after'])"
      ],
      "metadata": {
        "colab": {
          "base_uri": "https://localhost:8080/"
        },
        "id": "ywrlalYiI1nd",
        "outputId": "cb1b1673-43d8-4f0f-ec04-267060113779"
      },
      "execution_count": 28,
      "outputs": [
        {
          "output_type": "execute_result",
          "data": {
            "text/plain": [
              "TtestResult(statistic=3.3371870510833657, pvalue=0.0011297914644840823, df=119)"
            ]
          },
          "metadata": {},
          "execution_count": 28
        }
      ]
    },
    {
      "cell_type": "code",
      "source": [
        "# these findings are statistically significant"
      ],
      "metadata": {
        "id": "Sc4lR31TI6ss"
      },
      "execution_count": 29,
      "outputs": []
    },
    {
      "cell_type": "code",
      "source": [],
      "metadata": {
        "id": "w_-6vUKlI-8I"
      },
      "execution_count": null,
      "outputs": []
    }
  ]
}