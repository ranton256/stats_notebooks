{
  "nbformat": 4,
  "nbformat_minor": 0,
  "metadata": {
    "colab": {
      "provenance": [],
      "authorship_tag": "ABX9TyPYM9Gf61ZfDzw40VfbAbJa",
      "include_colab_link": true
    },
    "kernelspec": {
      "name": "python3",
      "display_name": "Python 3"
    },
    "language_info": {
      "name": "python"
    }
  },
  "cells": [
    {
      "cell_type": "markdown",
      "metadata": {
        "id": "view-in-github",
        "colab_type": "text"
      },
      "source": [
        "<a href=\"https://colab.research.google.com/github/ranton256/stats_notebooks/blob/main/NonParametricTests.ipynb\" target=\"_parent\"><img src=\"https://colab.research.google.com/assets/colab-badge.svg\" alt=\"Open In Colab\"/></a>"
      ]
    },
    {
      "cell_type": "markdown",
      "source": [
        "# Non-Parametric Tests"
      ],
      "metadata": {
        "id": "Uv50zrk6ALfA"
      }
    },
    {
      "cell_type": "markdown",
      "source": [
        "\n",
        "\n",
        "\n",
        "The definition of what a non-parametric test is best understood by comparing parametric tests to non-parametric tests.\n",
        "\n",
        "\n",
        "| Parametric Tests | Non-parametric Tests |\n",
        "|------------------|----------------------|\n",
        "| Estimate a parameter like μ, σ, or p (proportion) prior to hypothesis testing. | Hypothesis testing without parameter estimation. Involves counting or ranking. |\n",
        "| Generally require a population to be normally distributed. | \"Distribution-free statistics\". |\n",
        "| Only works for quantitative data. | Works for both qualitative and quantitative data. |\n",
        "| More power. | Less power. |\n",
        "| Need more detailed data (more information). | Work with less detailed data (less information). |\n",
        "| Work with smaller sample sizes. | Need large sample sizes. |\n",
        "\n",
        "If you have a choice, generally a parametric test is preferred to a non-parametric one because it has more power. On the other hand, if you reject H₀ with a non-parametric test, you can be more confident in your decision.\n",
        "\n",
        "The above table is taken from [[4]](https://stats.libretexts.org/Sandboxes/admin/Introduction_to_Applied_Statistics_for_Psychology_Students_(Sarty)/16%3A_Non-parametric_Tests/16.01%3A_Prelude_to_Non-Parametric_Tests)"
      ],
      "metadata": {
        "id": "7Lu2hqGKCtBA"
      }
    },
    {
      "cell_type": "markdown",
      "source": [
        "## Examples of non-parametric tests\n",
        "\n",
        "* **Two Sample Wilcoxon Rank Sum Test - (Mann-Whitney U Test)** - Compares two independent groups to determine if their population distributions differ, and is applicable when comparing two groups that are not normally distributed.\n",
        "* **Paired Wilcoxon Signed Rank Test** - Compares two related samples to assess whether their population mean ranks differ, and is used for before-and-after studies or matched pairs.\n",
        "* **Median Sign Test** - The median sign test is a test of a null hypothesis about the median, MD, of a population based on the binomial distribution. To use the test, every subject is assigned a score of + , 0 or - depending on whether their data point value is greater than, the same as or less than the H0 median. [[5]](https://stats.libretexts.org/Sandboxes/admin/Introduction_to_Applied_Statistics_for_Psychology_Students_(Sarty)/16%3A_Non-parametric_Tests)\n",
        "* **Kruskal-Wallis Test (H Test)** - The Kruskal-Wallis Test is a non-parametric one-way ANOVA. It detects differences in means between groups. The distribution behind the test is a new discrete distribution called the H distribution that assumes the group samples come from populations with identically shaped distributions. [[5]](https://stats.libretexts.org/Sandboxes/admin/Introduction_to_Applied_Statistics_for_Psychology_Students_(Sarty)/16%3A_Non-parametric_Tests)\n",
        "* **Spearman Rank Correlation Coefficient** - This is a rank alternative to the Pearson correlation coefficient that may be used when the assumption of normality is not met for hypothesis testing. [[5]](https://stats.libretexts.org/Sandboxes/admin/Introduction_to_Applied_Statistics_for_Psychology_Students_(Sarty)/16%3A_Non-parametric_Tests)"
      ],
      "metadata": {
        "id": "UHFuFymoDpQt"
      }
    },
    {
      "cell_type": "markdown",
      "source": [
        "## As explained by ChatGPT 4o mini\n",
        "\n",
        "### Prompt Given\n",
        "\n",
        "> Describe the concept, purpose,  assumptions, applicability and methods for Non-Parametric Tests as a tutorial for someone with basic but not advanced statistical background, such as a students in a stats 201 style course.\n",
        "\n",
        "### Non-Parametric Tests: A Beginner’s Guide\n",
        "\n",
        "#### What are Non-Parametric Tests?\n",
        "\n",
        "Non-parametric tests are statistical methods that do not assume a specific distribution for the data. Unlike parametric tests (like t-tests or ANOVA), which assume that data follows a normal distribution, non-parametric tests are more flexible and can be used with a variety of data types, especially when the data does not meet the assumptions required for parametric tests.\n",
        "\n",
        "#### Purpose of Non-Parametric Tests\n",
        "\n",
        "The primary purpose of non-parametric tests is to analyze data when:\n",
        "- The sample size is small.\n",
        "- The data is ordinal (ranked) rather than interval or ratio (where differences between values are meaningful).\n",
        "- The data does not meet the assumptions of normality or homogeneity of variance required by parametric tests.\n",
        "\n",
        "Non-parametric tests are useful for:\n",
        "- Comparing medians rather than means.\n",
        "- Analyzing data that contains outliers or is skewed.\n",
        "- Handling small sample sizes where normality cannot be assumed.\n",
        "\n",
        "#### Assumptions of Non-Parametric Tests\n",
        "\n",
        "1. **Data Type**: Non-parametric tests can handle ordinal or nominal data. They are also applicable to continuous data that doesn't meet the assumptions of parametric tests.\n",
        "  \n",
        "2. **Independence**: Observations should be independent of each other. This means that the value of one observation does not affect another.\n",
        "\n",
        "3. **Distribution**: There are no specific distributional assumptions, which makes non-parametric tests suitable for data that may be skewed or contain outliers.\n",
        "\n",
        "4. **Shape of Distribution**: While there are no strict assumptions about distribution, the underlying distributions should have a similar shape when comparing groups.\n",
        "\n",
        "#### Applicability of Non-Parametric Tests\n",
        "\n",
        "Non-parametric tests can be used in various scenarios, including:\n",
        "- **Small Sample Sizes**: When the sample size is too small to reliably assess normality.\n",
        "- **Non-Normal Distributions**: When data is not normally distributed or is skewed.\n",
        "- **Ordinal Data**: When dealing with ranked data (e.g., survey results).\n",
        "- **Heteroscedasticity**: When variances are unequal among groups.\n",
        "\n",
        "#### Common Non-Parametric Tests\n",
        "\n",
        "1. **Mann-Whitney U Test**:\n",
        "   - **Purpose**: Compares two independent groups to determine if their population distributions differ.\n",
        "   - **Applicability**: Used when comparing two groups that are not normally distributed.\n",
        "\n",
        "2. **Wilcoxon Signed-Rank Test**:\n",
        "   - **Purpose**: Compares two related samples to assess whether their population mean ranks differ.\n",
        "   - **Applicability**: Used for before-and-after studies or matched pairs.\n",
        "\n",
        "3. **Kruskal-Wallis H Test**:\n",
        "   - **Purpose**: An extension of the Mann-Whitney U test for comparing three or more independent groups.\n",
        "   - **Applicability**: Used when the assumption of normality is violated for multiple groups.\n",
        "\n",
        "4. **Friedman Test**:\n",
        "   - **Purpose**: Used to detect differences in treatments across multiple test attempts.\n",
        "   - **Applicability**: Suitable for repeated measures on the same subjects.\n",
        "\n",
        "5. **Chi-Square Test**:\n",
        "   - **Purpose**: Tests the relationship between two categorical variables.\n",
        "   - **Applicability**: Used for frequency data in contingency tables.\n",
        "\n",
        "#### Conclusion\n",
        "\n",
        "Non-parametric tests are valuable tools in statistics, especially when the assumptions of parametric tests cannot be met. They provide robust alternatives for analyzing data, making them particularly useful for students and researchers working with diverse datasets. Understanding when and how to apply these tests can enhance your ability to conduct meaningful analyses and draw valid conclusions from your data."
      ],
      "metadata": {
        "id": "o-cIIYiuAtzU"
      }
    },
    {
      "cell_type": "markdown",
      "source": [
        "## Claude's reply to that.\n",
        "\n",
        "### Prompt Given\n",
        "\n",
        "> Evaluate this introduction to non-parametric tests for accuracy and clarity and suggest any appropriate corrections or clarifications. Please also suggest any relevant references.\n",
        "\n",
        "### Response\n",
        "\n",
        "Your introduction to non-parametric tests is generally accurate and clear. It provides a good overview for beginners. However, I can suggest a few minor corrections and clarifications to enhance its accuracy and completeness:\n",
        "\n",
        "1. In the \"Purpose of Non-Parametric Tests\" section:\n",
        "   - It's worth noting that non-parametric tests are not always less powerful than parametric tests. In some cases, especially when assumptions of parametric tests are violated, non-parametric tests can be more powerful.\n",
        "\n",
        "2. In the \"Assumptions of Non-Parametric Tests\" section:\n",
        "   - The point about \"Shape of Distribution\" is somewhat oversimplified. While some non-parametric tests (like the Mann-Whitney U test) assume similar shapes of distribution when comparing groups, this is not true for all non-parametric tests.\n",
        "\n",
        "3. In the \"Applicability of Non-Parametric Tests\" section:\n",
        "   - You could add that non-parametric tests are also useful when dealing with censored data, which is common in survival analysis.\n",
        "\n",
        "4. In the \"Common Non-Parametric Tests\" section:\n",
        "   - For the Mann-Whitney U Test, it's more accurate to say it tests whether one group tends to have higher values than the other, rather than just if distributions differ.\n",
        "   - For the Wilcoxon Signed-Rank Test, it compares the distribution of differences in paired data, not just mean ranks.\n",
        "   - The Chi-Square Test is often considered a separate category (distribution-free test) rather than strictly non-parametric.\n",
        "\n",
        "5. Additional points to consider including:\n",
        "   - Mention of permutation tests as a powerful non-parametric approach.\n",
        "   - Discussion of the trade-offs between parametric and non-parametric tests (e.g., ease of interpretation, power under different conditions).\n",
        "\n",
        "Suggested references to include:\n",
        "\n",
        "1. Hollander, M., Wolfe, D. A., & Chicken, E. (2013). Nonparametric statistical methods (3rd ed.). John Wiley & Sons.\n",
        "\n",
        "2. Siegel, S., & Castellan, N. J. (1988). Nonparametric statistics for the behavioral sciences (2nd ed.). McGraw-Hill.\n",
        "\n",
        "3. Conover, W. J. (1999). Practical nonparametric statistics (3rd ed.). John Wiley & Sons.\n",
        "\n",
        "4. Gibbons, J. D., & Chakraborti, S. (2011). Nonparametric statistical inference (5th ed.). Chapman and Hall/CRC.\n",
        "\n",
        "5. Good, P. I. (2005). Permutation, parametric, and bootstrap tests of hypotheses (3rd ed.). Springer.\n",
        "\n",
        "These adjustments and additions would make your introduction more comprehensive and nuanced, providing beginners with a solid foundation in non-parametric tests."
      ],
      "metadata": {
        "id": "jZbVPd_6BHFs"
      }
    },
    {
      "cell_type": "markdown",
      "source": [
        "## References\n",
        "\n",
        "1. Hollander, M., Wolfe, D. A., & Chicken, E. (2013). Nonparametric statistical methods (3rd ed.). John Wiley & Sons. <https://www.wiley.com/en-us/Nonparametric+Statistical+Methods%2C+3rd+Edition-p-9780470387375>\n",
        "\n",
        "2. Siegel, S., Castellan, N. J. (1988). Nonparametric Statistics for the Behavioral Sciences. Singapore: McGraw-Hill. At [Google Books](https://www.google.com/books/edition/_/ha3AQgAACAAJ?hl=en&sa=X&ved=2ahUKEwiks-3h_52JAxWMJzQIHQuAB7AQ8fIDegQIKhAo)\n",
        "\n",
        "3. Gibbons, J. D., Chakraborti, S. (2011). Nonparametric Statistical Inference, Fifth Edition. India: Taylor & Francis. At [Google Books](https://www.google.com/books/edition/_/Xhm4IgAACAAJ?hl=en&sa=X&ved=2ahUKEwiyn5OCgJ6JAxUREzQIHWxoOoYQre8FegQIAxAq)\n",
        "\n",
        "4. LibreTexts, (2022). 16.1: Prelude to Non-Parametric Tests <https://stats.libretexts.org/Sandboxes/admin/Introduction_to_Applied_Statistics_for_Psychology_Students_(Sarty)/16%3A_Non-parametric_Tests/16.01%3A_Prelude_to_Non-Parametric_Tests>\n",
        "\n",
        "5. LibreTexts, (2022). 16: Non-parametrics Tests. <https://stats.libretexts.org/Sandboxes/admin/Introduction_to_Applied_Statistics_for_Psychology_Students_(Sarty)/16%3A_Non-parametric_Tests>\n"
      ],
      "metadata": {
        "id": "IbXqqiclBcpq"
      }
    },
    {
      "cell_type": "code",
      "execution_count": 1,
      "metadata": {
        "id": "bFnJ7ilZ_yzF"
      },
      "outputs": [],
      "source": [
        "\n",
        "\n",
        "\n"
      ]
    },
    {
      "cell_type": "code",
      "source": [],
      "metadata": {
        "id": "8bo1sBC4AK8R"
      },
      "execution_count": null,
      "outputs": []
    }
  ]
}